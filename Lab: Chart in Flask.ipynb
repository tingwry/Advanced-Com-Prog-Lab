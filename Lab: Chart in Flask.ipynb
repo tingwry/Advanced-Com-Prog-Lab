{
  "nbformat": 4,
  "nbformat_minor": 0,
  "metadata": {
    "colab": {
      "provenance": [],
      "include_colab_link": true
    },
    "kernelspec": {
      "name": "python3",
      "display_name": "Python 3"
    },
    "language_info": {
      "name": "python"
    }
  },
  "cells": [
    {
      "cell_type": "markdown",
      "metadata": {
        "id": "view-in-github",
        "colab_type": "text"
      },
      "source": [
        "<a href=\"https://colab.research.google.com/github/tingwry/Advanced-Com-Prog-Lab/blob/main/Lab%3A%20Chart%20in%20Flask.ipynb\" target=\"_parent\"><img src=\"https://colab.research.google.com/assets/colab-badge.svg\" alt=\"Open In Colab\"/></a>"
      ]
    },
    {
      "cell_type": "markdown",
      "metadata": {
        "id": "9yZmkHxRBE1s"
      },
      "source": [
        "# **Lab 7: Chart in Flask**\n",
        "\n",
        "Please save the notebook into your drive; work on the saved one; download the finished one; submit the final file to MyCourseVille. "
      ]
    },
    {
      "cell_type": "markdown",
      "metadata": {
        "id": "nUp0tNyf9MSR"
      },
      "source": [
        "## **Lab 7.1 Simple Chart**\n",
        "\n",
        "\n"
      ]
    },
    {
      "cell_type": "markdown",
      "metadata": {
        "id": "yyW-8Z0PFDjU"
      },
      "source": [
        "Create a route (`/show_score`) on **your colab** to display a bar chart of all quiz scores of the student whose id will be passed in the url (`/show_score?id=xxxxxxxxxx`). The score you retrieve must be get from pymongo."
      ]
    },
    {
      "cell_type": "markdown",
      "metadata": {
        "id": "GXpmPAv9HJgq"
      },
      "source": [
        "## **Lab 7.2 Create your own `hist()`**\n",
        "\n",
        "\n"
      ]
    },
    {
      "cell_type": "markdown",
      "metadata": {
        "id": "HVWPUgSDHJgr"
      },
      "source": [
        "Create the route (/**show_hist**) in **your colab** to display a histogram of total score of all students. Your service must get a bin value from url (`/show_hist?bins=10'. "
      ]
    },
    {
      "cell_type": "code",
      "metadata": {
        "colab": {
          "base_uri": "https://localhost:8080/"
        },
        "id": "Y62SaR_3VMmg",
        "outputId": "6745628c-fc77-4ac6-b494-eebd290148b9"
      },
      "source": [
        "! gdown https://drive.google.com/uc?id=1wpYx8rvGohvy_TLEfYgaKRYpyy2Z1ZST"
      ],
      "execution_count": null,
      "outputs": [
        {
          "output_type": "stream",
          "name": "stdout",
          "text": [
            "Downloading...\n",
            "From: https://drive.google.com/uc?id=1wpYx8rvGohvy_TLEfYgaKRYpyy2Z1ZST\n",
            "To: /content/score.csv\n",
            "\r  0% 0.00/22.4k [00:00<?, ?B/s]\r100% 22.4k/22.4k [00:00<00:00, 19.2MB/s]\n"
          ]
        }
      ]
    },
    {
      "cell_type": "markdown",
      "metadata": {
        "id": "QONYbv1lMG3c"
      },
      "source": [
        "# **Your program**"
      ]
    },
    {
      "cell_type": "code",
      "metadata": {
        "id": "-1GALX8pL-ib",
        "colab": {
          "base_uri": "https://localhost:8080/"
        },
        "outputId": "433532d4-23ea-41d2-98af-f76dd5109b28"
      },
      "source": [
        "!pip install pymongo[srv]\n",
        "!pip install flask_ngrok\n",
        "!pip install flask flask-cors\n",
        "!pip install pyngrok\n",
        "!ngrok authtoken 2F9tYl79jvby0znP22sTdLHBXBq_6nsNcit9L5XLNmprViyow\n",
        "! mkdir static \n",
        "! wget https://cdnjs.cloudflare.com/ajax/libs/Chart.js/1.0.2/Chart.min.js\n",
        "! mv Chart.min.js static/"
      ],
      "execution_count": null,
      "outputs": [
        {
          "output_type": "stream",
          "name": "stdout",
          "text": [
            "Looking in indexes: https://pypi.org/simple, https://us-python.pkg.dev/colab-wheels/public/simple/\n",
            "Requirement already satisfied: pymongo[srv] in /usr/local/lib/python3.7/dist-packages (4.2.0)\n",
            "Requirement already satisfied: dnspython<3.0.0,>=1.16.0 in /usr/local/lib/python3.7/dist-packages (from pymongo[srv]) (2.2.1)\n",
            "Looking in indexes: https://pypi.org/simple, https://us-python.pkg.dev/colab-wheels/public/simple/\n",
            "Requirement already satisfied: flask_ngrok in /usr/local/lib/python3.7/dist-packages (0.0.25)\n",
            "Requirement already satisfied: Flask>=0.8 in /usr/local/lib/python3.7/dist-packages (from flask_ngrok) (1.1.4)\n",
            "Requirement already satisfied: requests in /usr/local/lib/python3.7/dist-packages (from flask_ngrok) (2.23.0)\n",
            "Requirement already satisfied: itsdangerous<2.0,>=0.24 in /usr/local/lib/python3.7/dist-packages (from Flask>=0.8->flask_ngrok) (1.1.0)\n",
            "Requirement already satisfied: Jinja2<3.0,>=2.10.1 in /usr/local/lib/python3.7/dist-packages (from Flask>=0.8->flask_ngrok) (2.11.3)\n",
            "Requirement already satisfied: click<8.0,>=5.1 in /usr/local/lib/python3.7/dist-packages (from Flask>=0.8->flask_ngrok) (7.1.2)\n",
            "Requirement already satisfied: Werkzeug<2.0,>=0.15 in /usr/local/lib/python3.7/dist-packages (from Flask>=0.8->flask_ngrok) (1.0.1)\n",
            "Requirement already satisfied: MarkupSafe>=0.23 in /usr/local/lib/python3.7/dist-packages (from Jinja2<3.0,>=2.10.1->Flask>=0.8->flask_ngrok) (2.0.1)\n",
            "Requirement already satisfied: chardet<4,>=3.0.2 in /usr/local/lib/python3.7/dist-packages (from requests->flask_ngrok) (3.0.4)\n",
            "Requirement already satisfied: urllib3!=1.25.0,!=1.25.1,<1.26,>=1.21.1 in /usr/local/lib/python3.7/dist-packages (from requests->flask_ngrok) (1.24.3)\n",
            "Requirement already satisfied: idna<3,>=2.5 in /usr/local/lib/python3.7/dist-packages (from requests->flask_ngrok) (2.10)\n",
            "Requirement already satisfied: certifi>=2017.4.17 in /usr/local/lib/python3.7/dist-packages (from requests->flask_ngrok) (2022.9.24)\n",
            "Looking in indexes: https://pypi.org/simple, https://us-python.pkg.dev/colab-wheels/public/simple/\n",
            "Requirement already satisfied: flask in /usr/local/lib/python3.7/dist-packages (1.1.4)\n",
            "Requirement already satisfied: flask-cors in /usr/local/lib/python3.7/dist-packages (3.0.10)\n",
            "Requirement already satisfied: itsdangerous<2.0,>=0.24 in /usr/local/lib/python3.7/dist-packages (from flask) (1.1.0)\n",
            "Requirement already satisfied: click<8.0,>=5.1 in /usr/local/lib/python3.7/dist-packages (from flask) (7.1.2)\n",
            "Requirement already satisfied: Werkzeug<2.0,>=0.15 in /usr/local/lib/python3.7/dist-packages (from flask) (1.0.1)\n",
            "Requirement already satisfied: Jinja2<3.0,>=2.10.1 in /usr/local/lib/python3.7/dist-packages (from flask) (2.11.3)\n",
            "Requirement already satisfied: MarkupSafe>=0.23 in /usr/local/lib/python3.7/dist-packages (from Jinja2<3.0,>=2.10.1->flask) (2.0.1)\n",
            "Requirement already satisfied: Six in /usr/local/lib/python3.7/dist-packages (from flask-cors) (1.15.0)\n",
            "Looking in indexes: https://pypi.org/simple, https://us-python.pkg.dev/colab-wheels/public/simple/\n",
            "Requirement already satisfied: pyngrok in /usr/local/lib/python3.7/dist-packages (5.1.0)\n",
            "Requirement already satisfied: PyYAML in /usr/local/lib/python3.7/dist-packages (from pyngrok) (6.0)\n",
            "Authtoken saved to configuration file: /root/.ngrok2/ngrok.yml\n",
            "mkdir: cannot create directory ‘static’: File exists\n",
            "--2022-10-08 10:24:56--  https://cdnjs.cloudflare.com/ajax/libs/Chart.js/1.0.2/Chart.min.js\n",
            "Resolving cdnjs.cloudflare.com (cdnjs.cloudflare.com)... 104.17.25.14, 104.17.24.14, 2606:4700::6811:180e, ...\n",
            "Connecting to cdnjs.cloudflare.com (cdnjs.cloudflare.com)|104.17.25.14|:443... connected.\n",
            "HTTP request sent, awaiting response... 200 OK\n",
            "Length: unspecified [application/javascript]\n",
            "Saving to: ‘Chart.min.js’\n",
            "\n",
            "Chart.min.js            [ <=>                ]  50.87K  --.-KB/s    in 0.001s  \n",
            "\n",
            "2022-10-08 10:24:57 (73.9 MB/s) - ‘Chart.min.js’ saved [52091]\n",
            "\n"
          ]
        }
      ]
    },
    {
      "cell_type": "code",
      "source": [
        "!mkdir templates\n",
        "file=open('templates/chart.html','w')\n",
        "file.write('''\n",
        "<meta charset=\"utf-8\">\n",
        "<title>Chart.js </title>\n",
        "\n",
        "<!-- import plugin script -->\n",
        "<script src=\"/static/Chart.min.js\"></script>\n",
        "<h1>Flask Chart.js</h1>\n",
        "<!-- bar chart canvas element -->\n",
        "<canvas id=\"chart\" width=\"600\" height=\"400\"></canvas>\n",
        "\n",
        "<script>\n",
        "// bar chart data\n",
        "   var barData = {\n",
        "   labels : [{% for item in labels %}\n",
        "   \"{{item}}\",\n",
        "{% endfor %}],\n",
        "   datasets : [\n",
        "      {\n",
        "            fillColor: \"rgba(151,187,205,0.2)\",\n",
        "            strokeColor: \"rgba(151,187,205,1)\",\n",
        "            pointColor: \"rgba(151,187,205,1)\",\n",
        "            pointStrokeColor: \"#fff\",\n",
        "            pointHighlightFill: \"#fff\",\n",
        "            pointHighlightStroke: \"rgba(151,187,205,1)\",\n",
        "            bezierCurve : false,\n",
        "            data : [{% for item in values %}\n",
        "{{item}},\n",
        "{% endfor %}]\n",
        "      }]\n",
        "   }\n",
        "    Chart.defaults.global.animationSteps = 50;\n",
        "    Chart.defaults.global.tooltipYPadding = 16;\n",
        "    Chart.defaults.global.tooltipCornerRadius = 0;\n",
        "    Chart.defaults.global.tooltipTitleFontStyle = \"normal\";\n",
        "    Chart.defaults.global.tooltipFillColor = \"rgba(0,0,0,0.8)\";\n",
        "    Chart.defaults.global.animationEasing = \"easeOutBounce\";\n",
        "    Chart.defaults.global.responsive = false;\n",
        "    Chart.defaults.global.scaleLineColor = \"black\";\n",
        "    Chart.defaults.global.scaleFontSize = 16;\n",
        "// get bar chart canvas<br />\n",
        "   var mychart = document.getElementById(\"chart\").getContext(\"2d\");\n",
        "   steps = 10\n",
        "   max = {{max}}\n",
        "   // draw line chart\n",
        "   var LineChartDemo = new Chart(mychart).Bar(barData, {\n",
        "        scaleOverride: true,\n",
        "        scaleSteps: steps,\n",
        "        scaleStepWidth: Math.ceil(max / steps),\n",
        "        scaleStartValue: 0,\n",
        "        scaleShowVerticalLines: true,\n",
        "        scaleShowGridLines : true,\n",
        "        barShowStroke : true,\n",
        "        scaleShowLabels: true,\n",
        "        bezierCurve: false,\n",
        "   });\n",
        "</script>\n",
        "''')\n",
        "file.close()"
      ],
      "metadata": {
        "id": "QGB9_U-zG_jV",
        "colab": {
          "base_uri": "https://localhost:8080/"
        },
        "outputId": "4beb1f57-9960-457b-a158-de5d4134270c"
      },
      "execution_count": null,
      "outputs": [
        {
          "output_type": "stream",
          "name": "stdout",
          "text": [
            "mkdir: cannot create directory ‘templates’: File exists\n"
          ]
        }
      ]
    },
    {
      "cell_type": "code",
      "source": [
        "import pymongo\n",
        "import pandas as pd \n",
        "from flask_ngrok import run_with_ngrok\n",
        "from flask import Flask\n",
        "from flask import request\n",
        "from flask import Markup\n",
        "from flask import Flask\n",
        "from flask import render_template\n",
        "from flask_cors import CORS, cross_origin\n",
        "\n",
        "app = Flask(__name__)\n",
        "CORS(app, support_credentials=True)\n",
        "run_with_ngrok(app)\n",
        "\n",
        "client = pymongo.MongoClient(\"############################################################################\")\n",
        "db = client.postdb\n",
        "\n",
        "@app.route(\"/show_score\")\n",
        "def show_score():\n",
        "  id=request.args.get('id')\n",
        "  \n",
        "  student=db.scores.find_one({'student_id':int(id)})\n",
        "  if student is  None:\n",
        "    return 'Not found'\n",
        "\n",
        "  labels = [\"Q1\",\"Q2\",\"Q3\",\"Q4\",\"Q5\"]\n",
        "  values = [student['Q1'],student['Q2'],student['Q3'],student['Q4'],student['Q5']]\n",
        "\n",
        "  return render_template('chart.html', values=values, labels=labels, max=10)\n",
        "\n",
        "\n",
        "@app.route(\"/show_hist\")\n",
        "def show_hist():\n",
        "  df=pd.read_csv('score.csv')\n",
        "  df['Total']=df['Q1']+df['Q2']+df['Q3']+df['Q4']+df['Q5']\n",
        "\n",
        "  bins=request.args.get('bins')\n",
        "  \n",
        "  maxs=[]\n",
        "  values=[]\n",
        "  size=50/int(bins)\n",
        "  for i in range(1,int(bins)+1):\n",
        "    maxs.append(size*i)\n",
        "    values.append(0)\n",
        "    \n",
        "  for index, student in df.iterrows():\n",
        "    for i in range(len(maxs)):\n",
        "      if student['Total'] <= maxs[i]:\n",
        "        values[i] += 1\n",
        "        break\n",
        "\n",
        "  return render_template('chart.html', values=values, labels=maxs, max=max(values))\n",
        "\n",
        "\n",
        "if __name__ == \"__main__\":\n",
        "  app.run()"
      ],
      "metadata": {
        "colab": {
          "base_uri": "https://localhost:8080/"
        },
        "id": "qFYEBSvnHJE8",
        "outputId": "4d1d8824-5975-4c42-924f-85ec31660cee"
      },
      "execution_count": null,
      "outputs": [
        {
          "output_type": "stream",
          "name": "stderr",
          "text": [
            "WARNING:flask_cors.core:Unknown option passed to Flask-CORS: support_credentials\n",
            "WARNING:flask_cors.core:Unknown option passed to Flask-CORS: support_credentials\n"
          ]
        },
        {
          "output_type": "stream",
          "name": "stdout",
          "text": [
            " * Serving Flask app \"__main__\" (lazy loading)\n",
            " * Environment: production\n",
            "\u001b[31m   WARNING: This is a development server. Do not use it in a production deployment.\u001b[0m\n",
            "\u001b[2m   Use a production WSGI server instead.\u001b[0m\n",
            " * Debug mode: off\n"
          ]
        },
        {
          "output_type": "stream",
          "name": "stderr",
          "text": [
            "INFO:werkzeug: * Running on http://127.0.0.1:5000/ (Press CTRL+C to quit)\n"
          ]
        },
        {
          "output_type": "stream",
          "name": "stdout",
          "text": [
            " * Running on http://2401-104-196-37-131.ngrok.io\n",
            " * Traffic stats available on http://127.0.0.1:4040\n"
          ]
        },
        {
          "output_type": "stream",
          "name": "stderr",
          "text": [
            "INFO:werkzeug:127.0.0.1 - - [08/Oct/2022 10:25:20] \"\u001b[33mGET / HTTP/1.1\u001b[0m\" 404 -\n",
            "ERROR:__main__:Exception on /show_score [GET]\n",
            "Traceback (most recent call last):\n",
            "  File \"/usr/local/lib/python3.7/dist-packages/flask/app.py\", line 2447, in wsgi_app\n",
            "    response = self.full_dispatch_request()\n",
            "  File \"/usr/local/lib/python3.7/dist-packages/flask/app.py\", line 1952, in full_dispatch_request\n",
            "    rv = self.handle_user_exception(e)\n",
            "  File \"/usr/local/lib/python3.7/dist-packages/flask_cors/extension.py\", line 165, in wrapped_function\n",
            "    return cors_after_request(app.make_response(f(*args, **kwargs)))\n",
            "  File \"/usr/local/lib/python3.7/dist-packages/flask/app.py\", line 1821, in handle_user_exception\n",
            "    reraise(exc_type, exc_value, tb)\n",
            "  File \"/usr/local/lib/python3.7/dist-packages/flask/_compat.py\", line 39, in reraise\n",
            "    raise value\n",
            "  File \"/usr/local/lib/python3.7/dist-packages/flask/app.py\", line 1950, in full_dispatch_request\n",
            "    rv = self.dispatch_request()\n",
            "  File \"/usr/local/lib/python3.7/dist-packages/flask/app.py\", line 1936, in dispatch_request\n",
            "    return self.view_functions[rule.endpoint](**req.view_args)\n",
            "  File \"<ipython-input-7-c09c6b105553>\", line 22, in show_score\n",
            "    student=db.scores.find_one({'student_id':int(id)})\n",
            "TypeError: int() argument must be a string, a bytes-like object or a number, not 'NoneType'\n",
            "INFO:werkzeug:127.0.0.1 - - [08/Oct/2022 10:25:38] \"\u001b[35m\u001b[1mGET /show_score HTTP/1.1\u001b[0m\" 500 -\n",
            "ERROR:__main__:Exception on /show_score [GET]\n",
            "Traceback (most recent call last):\n",
            "  File \"/usr/local/lib/python3.7/dist-packages/flask/app.py\", line 2447, in wsgi_app\n",
            "    response = self.full_dispatch_request()\n",
            "  File \"/usr/local/lib/python3.7/dist-packages/flask/app.py\", line 1952, in full_dispatch_request\n",
            "    rv = self.handle_user_exception(e)\n",
            "  File \"/usr/local/lib/python3.7/dist-packages/flask_cors/extension.py\", line 165, in wrapped_function\n",
            "    return cors_after_request(app.make_response(f(*args, **kwargs)))\n",
            "  File \"/usr/local/lib/python3.7/dist-packages/flask/app.py\", line 1821, in handle_user_exception\n",
            "    reraise(exc_type, exc_value, tb)\n",
            "  File \"/usr/local/lib/python3.7/dist-packages/flask/_compat.py\", line 39, in reraise\n",
            "    raise value\n",
            "  File \"/usr/local/lib/python3.7/dist-packages/flask/app.py\", line 1950, in full_dispatch_request\n",
            "    rv = self.dispatch_request()\n",
            "  File \"/usr/local/lib/python3.7/dist-packages/flask/app.py\", line 1936, in dispatch_request\n",
            "    return self.view_functions[rule.endpoint](**req.view_args)\n",
            "  File \"<ipython-input-7-c09c6b105553>\", line 22, in show_score\n",
            "    student=db.scores.find_one({'student_id':int(id)})\n",
            "TypeError: int() argument must be a string, a bytes-like object or a number, not 'NoneType'\n",
            "INFO:werkzeug:127.0.0.1 - - [08/Oct/2022 10:25:43] \"\u001b[35m\u001b[1mGET /show_score HTTP/1.1\u001b[0m\" 500 -\n"
          ]
        }
      ]
    }
  ]
}